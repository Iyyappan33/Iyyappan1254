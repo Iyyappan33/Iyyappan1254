{
  "nbformat": 4,
  "nbformat_minor": 0,
  "metadata": {
    "colab": {
      "provenance": [],
      "authorship_tag": "ABX9TyMzKCeebDvuXdDmhJmc2JNQ",
      "include_colab_link": true
    },
    "kernelspec": {
      "name": "python3",
      "display_name": "Python 3"
    },
    "language_info": {
      "name": "python"
    }
  },
  "cells": [
    {
      "cell_type": "markdown",
      "metadata": {
        "id": "view-in-github",
        "colab_type": "text"
      },
      "source": [
        "<a href=\"https://colab.research.google.com/github/Iyyappan33/Iyyappan1254/blob/main/untitled8.ipynb\" target=\"_parent\"><img src=\"https://colab.research.google.com/assets/colab-badge.svg\" alt=\"Open In Colab\"/></a>"
      ]
    },
    {
      "cell_type": "code",
      "execution_count": null,
      "metadata": {
        "id": "DBfCWdn_ZOPH"
      },
      "outputs": [],
      "source": [
        "#1) Segregate the comments based on positive and negative sentiments.\n",
        "\n",
        "positive = ['good','awesome', 'best', 'nice']\n",
        "negative = ['worst','awful']\n",
        "comments = ['He is a good boy','Food is the worst here','He is an awesome player','She is the best','This pizza tastes awful','These burger are really nice']\n",
        "\n"
      ]
    },
    {
      "cell_type": "code",
      "source": [
        "positive_comments = []\n",
        "negative_comments = []\n",
        "\n",
        "for comment in comments:\n",
        "  for word in positive:\n",
        "    if word in comment.lower():\n",
        "      positive_comments.append(comment)\n",
        "      break\n",
        "  for word in negative:\n",
        "    if word in comment.lower():\n",
        "      negative_comments.append(comment)\n",
        "      break\n",
        "\n",
        "print(\"Positive comments:\")\n",
        "print(*positive_comments, sep='\\n')\n",
        "print(\"\\nNegative comments:\")\n",
        "print(*negative_comments, sep='\\n')"
      ],
      "metadata": {
        "colab": {
          "base_uri": "https://localhost:8080/"
        },
        "id": "iVjlWy5NZRL7",
        "outputId": "5c30b041-d714-47d9-db4b-2f5293c6d1cf"
      },
      "execution_count": null,
      "outputs": [
        {
          "output_type": "stream",
          "name": "stdout",
          "text": [
            "Positive comments:\n",
            "He is a good boy\n",
            "He is an awesome player\n",
            "She is the best\n",
            "These burger are really nice\n",
            "\n",
            "Negative comments:\n",
            "Food is the worst here\n",
            "This pizza tastes awful\n"
          ]
        }
      ]
    },
    {
      "cell_type": "code",
      "source": [
        "# 2)Create a dictionary containing three lambda functions square, cube and square root.\n",
        "dict = {\n",
        "    'Square': lambda x: x ** 2,\n",
        "    'Cube': lambda x: x ** 3,\n",
        "    'Squareroot': lambda x: x ** 0.5\n",
        "    }\n",
        "\n",
        "num = int(input('Enter a number: '))\n",
        "\n",
        "output = dict['Square'](num) + dict['Cube'](num) + dict['Squareroot'](num)\n",
        "print(output)\n"
      ],
      "metadata": {
        "colab": {
          "base_uri": "https://localhost:8080/"
        },
        "id": "C-G8Bw2xZXZx",
        "outputId": "cac39f63-a65d-448c-a586-9c2eafdc7144"
      },
      "execution_count": null,
      "outputs": [
        {
          "output_type": "stream",
          "name": "stdout",
          "text": [
            "Enter a number: 45\n",
            "93156.7082039325\n"
          ]
        }
      ]
    },
    {
      "cell_type": "code",
      "source": [
        "# 3) Find the fruits that are sour in taste from the tuple given below.\n",
        "fruits = (('Lemon','sour'),\n",
        "('DragonFruit', 'Sweet'),\n",
        "('Grapes','soUr'),\n",
        "('Kiwi','Sour'),\n",
        "('Apples','sweet'),\n",
        "('Orange','sour'),\n",
        "('Blueberries','sweet'),\n",
        "('Limes','Sour')\n",
        ")\n",
        "\n",
        "sour_fruits = []\n",
        "\n",
        "for fruit in fruits:\n",
        "  if fruit[1].lower() == 'sour':\n",
        "    sour_fruits.append(fruit[0])\n"
      ],
      "metadata": {
        "id": "BexafYJlZxPl"
      },
      "execution_count": null,
      "outputs": []
    },
    {
      "cell_type": "code",
      "source": [
        "print(\"Sour fruits:\")\n",
        "print(*sour_fruits, sep=', ')"
      ],
      "metadata": {
        "colab": {
          "base_uri": "https://localhost:8080/"
        },
        "id": "Sx-NN0xwaRl8",
        "outputId": "58d99dd4-87c4-4ef1-bb6c-cad82c2ad6b4"
      },
      "execution_count": null,
      "outputs": [
        {
          "output_type": "stream",
          "name": "stdout",
          "text": [
            "Sour fruits:\n",
            "Lemon, Grapes, Kiwi, Orange, Limes\n"
          ]
        }
      ]
    },
    {
      "cell_type": "code",
      "source": [
        "# 4) A list of words is given. Find the words from the list that have their second character in uppercase."
      ],
      "metadata": {
        "id": "5LuJDLO3aSsK"
      },
      "execution_count": null,
      "outputs": []
    },
    {
      "cell_type": "code",
      "source": [
        "ls = ['hello', 'Dear', 'hOw', 'ARe', 'You']\n",
        "\n",
        "result = []\n",
        "\n",
        "for word in ls:\n",
        "  if len(word) > 1 and word[1].isupper():\n",
        "    result.append(word)\n",
        "\n",
        "print(result)"
      ],
      "metadata": {
        "colab": {
          "base_uri": "https://localhost:8080/"
        },
        "id": "bQ5VHJYKdjpY",
        "outputId": "13c0b36d-372f-421d-d171-5414289d9f3a"
      },
      "execution_count": null,
      "outputs": [
        {
          "output_type": "stream",
          "name": "stdout",
          "text": [
            "['hOw', 'ARe']\n"
          ]
        }
      ]
    },
    {
      "cell_type": "code",
      "source": [
        "# 5)A dictionary of names and their weights on earth is given. Find how much they will weigh on the moon.\n",
        "\n",
        "WeightOnEarth = {'John':45, 'Shelly':65, 'Marry':35}\n",
        "GMoon = 1.622\n",
        "GEarth = 9.81\n"
      ],
      "metadata": {
        "id": "_pWMtj9UeH85"
      },
      "execution_count": null,
      "outputs": []
    },
    {
      "cell_type": "code",
      "source": [
        "WeightOnMoon = \"dict\",(map(lambda x:(x[0],(x[1]*GMoon)/GEarth),WeightOnEarth.items()))\n",
        "print(\"Weight on Moon:\",weight_on_moon)\n"
      ],
      "metadata": {
        "colab": {
          "base_uri": "https://localhost:8080/"
        },
        "id": "oE0F3s8beVlN",
        "outputId": "e8c2fe24-b298-4604-e6c0-838dea01c332"
      },
      "execution_count": null,
      "outputs": [
        {
          "output_type": "stream",
          "name": "stdout",
          "text": [
            "Weight on Moon: {'John': 7.440366972477065, 'Shelly': 10.747196738022426, 'Marry': 5.786952089704383}\n"
          ]
        }
      ]
    },
    {
      "cell_type": "code",
      "source": [
        "# 6) Write a program to fetch the words from the given list which have their first character in uppercase.\n",
        "namesList = ['santa Maria', 'Hello World','Merry christmas', 'tHank You']\n",
        "\n",
        "result = []\n",
        "\n",
        "for name in namesList:\n",
        "  words = name.split()\n",
        "  for word in words:\n",
        "    if word[0].isupper():\n",
        "      result.append(word)"
      ],
      "metadata": {
        "id": "RwJKGpv_eekM"
      },
      "execution_count": null,
      "outputs": []
    },
    {
      "cell_type": "code",
      "source": [
        "  print(result)"
      ],
      "metadata": {
        "colab": {
          "base_uri": "https://localhost:8080/"
        },
        "id": "gtShmNmvfvMc",
        "outputId": "e8edffd6-66ff-47f1-ed67-5abc899587bc"
      },
      "execution_count": null,
      "outputs": [
        {
          "output_type": "stream",
          "name": "stdout",
          "text": [
            "['Maria', 'Hello', 'World', 'Merry', 'You']\n"
          ]
        }
      ]
    },
    {
      "cell_type": "code",
      "source": [
        "# 7)Convert each inner list into sets and find the intersection of all the sets.\n",
        "\n",
        "from functools import reduce"
      ],
      "metadata": {
        "id": "phbARlhqfxBu"
      },
      "execution_count": null,
      "outputs": []
    },
    {
      "cell_type": "code",
      "source": [
        "given_sets = [[1, 2, 3, 4, 8], [2, 3, 8, 5, 6], [8, 4, 5, 3, 7], [6, 9, 8, 3], [9, 12, 3, 7, 6, 8, 4, 6, 21, 1, 6]]\n",
        "\n",
        "sets = [set(x) for x in given_sets]\n",
        "\n",
        "result = reduce(lambda a, b: a & b, sets)\n",
        "\n",
        "print(result)\n"
      ],
      "metadata": {
        "colab": {
          "base_uri": "https://localhost:8080/"
        },
        "id": "S__XqFnggKq_",
        "outputId": "8ceb1539-0415-44aa-ca8d-3f7dce2464db"
      },
      "execution_count": null,
      "outputs": [
        {
          "output_type": "stream",
          "name": "stdout",
          "text": [
            "{8, 3}\n"
          ]
        }
      ]
    },
    {
      "cell_type": "code",
      "source": [
        "# 8) Find the cumulative average of the list\n",
        "from itertools import accumulate"
      ],
      "metadata": {
        "id": "QbEHqk07gMUc"
      },
      "execution_count": null,
      "outputs": []
    },
    {
      "cell_type": "code",
      "source": [
        "lst = [9, 5, 7, 8, 5]\n",
        "\n",
        "cumulative_avg = list(accumulate(lst, lambda x, y: (x + y) / 2))\n",
        "\n",
        "print(cumulative_avg)"
      ],
      "metadata": {
        "colab": {
          "base_uri": "https://localhost:8080/"
        },
        "id": "u5KuVQSzgXyk",
        "outputId": "6d006de0-d27a-4260-ac86-cb89a3b1f040"
      },
      "execution_count": null,
      "outputs": [
        {
          "output_type": "stream",
          "name": "stdout",
          "text": [
            "[9, 7.0, 7.0, 7.5, 6.25]\n"
          ]
        }
      ]
    },
    {
      "cell_type": "code",
      "source": [
        "# 9) A list of words is given. Convert the words into uppercase. Use lambda and map functions.\n",
        "lsbool = ['True','FALse','tRUe','tRue','False','faLse']\n",
        "\n",
        "result = list(map(lambda x: x.upper(), lsbool))\n",
        "\n",
        "print(result)"
      ],
      "metadata": {
        "colab": {
          "base_uri": "https://localhost:8080/"
        },
        "id": "2sD3ov3ggZnQ",
        "outputId": "f6f051cc-da54-43f4-c59a-0d9513e77215"
      },
      "execution_count": null,
      "outputs": [
        {
          "output_type": "stream",
          "name": "stdout",
          "text": [
            "['TRUE', 'FALSE', 'TRUE', 'TRUE', 'FALSE', 'FALSE']\n"
          ]
        }
      ]
    },
    {
      "cell_type": "code",
      "source": [
        "# 10) A list of dates (dd-mm-yyyy)in the form of string is given below\n",
        "\n",
        "datesList = ['17-12-1997','22-04-2011','01-05-1993','19-06-2020']\n",
        "\n",
        "years = [date.split('-')[2] for date in datesList]\n",
        "\n",
        "print(years)"
      ],
      "metadata": {
        "colab": {
          "base_uri": "https://localhost:8080/"
        },
        "id": "3aSWcP9cghZ2",
        "outputId": "5fe62a07-13e1-4135-97d8-57ea213ae9ef"
      },
      "execution_count": null,
      "outputs": [
        {
          "output_type": "stream",
          "name": "stdout",
          "text": [
            "['1997', '2011', '1993', '2020']\n"
          ]
        }
      ]
    },
    {
      "cell_type": "code",
      "source": [],
      "metadata": {
        "id": "KH23OnpUlN7J"
      },
      "execution_count": null,
      "outputs": []
    }
  ]
}